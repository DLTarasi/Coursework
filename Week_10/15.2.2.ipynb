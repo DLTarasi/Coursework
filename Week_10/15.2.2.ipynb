{
 "cells": [
  {
   "cell_type": "code",
   "execution_count": 1,
   "metadata": {
    "collapsed": true
   },
   "outputs": [],
   "source": [
    "#Import pulp and Pandas\n",
    "from pulp import *\n",
    "import pandas as pd\n",
    "import xlrd"
   ]
  },
  {
   "cell_type": "code",
   "execution_count": null,
   "metadata": {},
   "outputs": [],
   "source": [
    "#test Pulp\n",
    "pulp.pulpTestAll()"
   ]
  },
  {
   "cell_type": "code",
   "execution_count": 2,
   "metadata": {
    "collapsed": true
   },
   "outputs": [],
   "source": [
    "#read in data\n",
    "data = pd.read_excel('diet.xls', \n",
    "                      skip_footer=3)"
   ]
  },
  {
   "cell_type": "code",
   "execution_count": 3,
   "metadata": {
    "collapsed": true
   },
   "outputs": [],
   "source": [
    "#convert to list\n",
    "data = data.values.tolist()"
   ]
  },
  {
   "cell_type": "code",
   "execution_count": 4,
   "metadata": {
    "collapsed": true
   },
   "outputs": [],
   "source": [
    "#read in requirements\n",
    "requirements = pd.read_excel('diet.xls', \n",
    "                             skiprows=list(range(1,66)),\n",
    "                             usecols=[2,3,4,5,6,7,8,9,10,11,12,13],\n",
    "                             header=0, \n",
    "                             index_col=0)"
   ]
  },
  {
   "cell_type": "code",
   "execution_count": 5,
   "metadata": {},
   "outputs": [
    {
     "data": {
      "text/html": [
       "<div>\n",
       "<style>\n",
       "    .dataframe thead tr:only-child th {\n",
       "        text-align: right;\n",
       "    }\n",
       "\n",
       "    .dataframe thead th {\n",
       "        text-align: left;\n",
       "    }\n",
       "\n",
       "    .dataframe tbody tr th {\n",
       "        vertical-align: top;\n",
       "    }\n",
       "</style>\n",
       "<table border=\"1\" class=\"dataframe\">\n",
       "  <thead>\n",
       "    <tr style=\"text-align: right;\">\n",
       "      <th></th>\n",
       "      <th>Calories</th>\n",
       "      <th>Cholesterol mg</th>\n",
       "      <th>Total_Fat g</th>\n",
       "      <th>Sodium mg</th>\n",
       "      <th>Carbohydrates g</th>\n",
       "      <th>Dietary_Fiber g</th>\n",
       "      <th>Protein g</th>\n",
       "      <th>Vit_A IU</th>\n",
       "      <th>Vit_C IU</th>\n",
       "      <th>Calcium mg</th>\n",
       "      <th>Iron mg</th>\n",
       "    </tr>\n",
       "    <tr>\n",
       "      <th>Serving Size</th>\n",
       "      <th></th>\n",
       "      <th></th>\n",
       "      <th></th>\n",
       "      <th></th>\n",
       "      <th></th>\n",
       "      <th></th>\n",
       "      <th></th>\n",
       "      <th></th>\n",
       "      <th></th>\n",
       "      <th></th>\n",
       "      <th></th>\n",
       "    </tr>\n",
       "  </thead>\n",
       "  <tbody>\n",
       "    <tr>\n",
       "      <th>Minimum daily intake</th>\n",
       "      <td>1500</td>\n",
       "      <td>30</td>\n",
       "      <td>20</td>\n",
       "      <td>800</td>\n",
       "      <td>130</td>\n",
       "      <td>125</td>\n",
       "      <td>60</td>\n",
       "      <td>1000</td>\n",
       "      <td>400</td>\n",
       "      <td>700</td>\n",
       "      <td>10</td>\n",
       "    </tr>\n",
       "    <tr>\n",
       "      <th>Maximum daily intake</th>\n",
       "      <td>2500</td>\n",
       "      <td>240</td>\n",
       "      <td>70</td>\n",
       "      <td>2000</td>\n",
       "      <td>450</td>\n",
       "      <td>250</td>\n",
       "      <td>100</td>\n",
       "      <td>10000</td>\n",
       "      <td>5000</td>\n",
       "      <td>1500</td>\n",
       "      <td>40</td>\n",
       "    </tr>\n",
       "  </tbody>\n",
       "</table>\n",
       "</div>"
      ],
      "text/plain": [
       "                      Calories  Cholesterol mg  Total_Fat g  Sodium mg  \\\n",
       "Serving Size                                                             \n",
       "Minimum daily intake      1500              30           20        800   \n",
       "Maximum daily intake      2500             240           70       2000   \n",
       "\n",
       "                      Carbohydrates g  Dietary_Fiber g  Protein g  Vit_A IU  \\\n",
       "Serving Size                                                                  \n",
       "Minimum daily intake              130              125         60      1000   \n",
       "Maximum daily intake              450              250        100     10000   \n",
       "\n",
       "                      Vit_C IU  Calcium mg  Iron mg  \n",
       "Serving Size                                         \n",
       "Minimum daily intake       400         700       10  \n",
       "Maximum daily intake      5000        1500       40  "
      ]
     },
     "execution_count": 5,
     "metadata": {},
     "output_type": "execute_result"
    }
   ],
   "source": [
    "requirements"
   ]
  },
  {
   "cell_type": "code",
   "execution_count": 6,
   "metadata": {},
   "outputs": [
    {
     "data": {
      "text/plain": [
       "1500"
      ]
     },
     "execution_count": 6,
     "metadata": {},
     "output_type": "execute_result"
    }
   ],
   "source": [
    "# Use .loc to get specific requirements when building model\n",
    "# Ex. 'Calories' and 'Minimum daily intake'\n",
    "requirements.loc['Minimum daily intake','Calories']"
   ]
  },
  {
   "cell_type": "code",
   "execution_count": 7,
   "metadata": {},
   "outputs": [
    {
     "data": {
      "text/plain": [
       "2500"
      ]
     },
     "execution_count": 7,
     "metadata": {},
     "output_type": "execute_result"
    }
   ],
   "source": [
    "requirements.loc['Maximum daily intake','Calories']"
   ]
  },
  {
   "cell_type": "code",
   "execution_count": 8,
   "metadata": {
    "collapsed": true
   },
   "outputs": [],
   "source": [
    "#create list of foods, then dictionaries for each nutrient with food as key and amount of nutrient as value\n",
    "\n",
    "foods = [x[0] for x in data]\n",
    "cost = dict([(x[0], float(x[1])) for x in data])\n",
    "calories = dict([(x[0], float(x[3])) for x in data])\n",
    "cholesterol = dict([(x[0], float(x[4])) for x in data])\n",
    "fat = dict([(x[0], float(x[5])) for x in data])\n",
    "sodium = dict([(x[0], float(x[6])) for x in data])\n",
    "carbs = dict([(x[0], float(x[7])) for x in data])\n",
    "fiber = dict([(x[0], float(x[8])) for x in data])\n",
    "protein = dict([(x[0], float(x[9])) for x in data])\n",
    "vita = dict([(x[0], float(x[10])) for x in data])\n",
    "vitc = dict([(x[0], float(x[11])) for x in data])\n",
    "calcium = dict([(x[0], float(x[12])) for x in data])\n",
    "iron = dict([(x[0], float(x[13])) for x in data])"
   ]
  },
  {
   "cell_type": "code",
   "execution_count": 9,
   "metadata": {
    "collapsed": true
   },
   "outputs": [],
   "source": [
    "# Initialize Pulp Optimization Object\n",
    "diet = LpProblem('diet', LpMinimize)"
   ]
  },
  {
   "cell_type": "code",
   "execution_count": 10,
   "metadata": {
    "collapsed": true
   },
   "outputs": [],
   "source": [
    "#Create food variables\n",
    "foodvars = LpVariable.dict('Foods', foods, 0)"
   ]
  },
  {
   "cell_type": "code",
   "execution_count": 11,
   "metadata": {
    "collapsed": true
   },
   "outputs": [],
   "source": [
    "#create binary variables\n",
    "chosenvars = LpVariable.dicts(\"Chosen\", foods, 0, 1, 'Binary')"
   ]
  },
  {
   "cell_type": "code",
   "execution_count": 12,
   "metadata": {
    "collapsed": true
   },
   "outputs": [],
   "source": [
    "#Objective Function\n",
    "diet += lpSum([cost[f] * foodvars[f] for f in foods]), 'Total Cost'"
   ]
  },
  {
   "cell_type": "code",
   "execution_count": 13,
   "metadata": {
    "collapsed": true
   },
   "outputs": [],
   "source": [
    "# add in additional constraints for max and min nutrients\n",
    "diet += lpSum([calories[f] * foodvars[f] for f in foods]) >= requirements.loc['Minimum daily intake','Calories'], 'min calories'\n",
    "diet += lpSum([calories[f] * foodvars[f] for f in foods]) <= requirements.loc['Maximum daily intake','Calories'], 'max calories'"
   ]
  },
  {
   "cell_type": "code",
   "execution_count": 14,
   "metadata": {
    "collapsed": true
   },
   "outputs": [],
   "source": [
    "diet += lpSum([cholesterol[f] * foodvars[f] for f in foods]) >= requirements.loc['Minimum daily intake','Cholesterol mg']\n",
    "diet += lpSum([cholesterol[f] * foodvars[f] for f in foods]) <= requirements.loc['Maximum daily intake','Cholesterol mg']"
   ]
  },
  {
   "cell_type": "code",
   "execution_count": 15,
   "metadata": {
    "collapsed": true
   },
   "outputs": [],
   "source": [
    "diet += lpSum([fat[f] * foodvars[f] for f in foods]) >= requirements.loc['Minimum daily intake','Total_Fat g']\n",
    "diet += lpSum([fat[f] * foodvars[f] for f in foods]) <= requirements.loc['Maximum daily intake','Total_Fat g']"
   ]
  },
  {
   "cell_type": "code",
   "execution_count": 16,
   "metadata": {
    "collapsed": true
   },
   "outputs": [],
   "source": [
    "diet += lpSum([sodium[f] * foodvars[f] for f in foods]) >= requirements.loc['Minimum daily intake','Sodium mg']\n",
    "diet += lpSum([sodium[f] * foodvars[f] for f in foods]) <= requirements.loc['Maximum daily intake','Sodium mg']"
   ]
  },
  {
   "cell_type": "code",
   "execution_count": 17,
   "metadata": {
    "collapsed": true
   },
   "outputs": [],
   "source": [
    "diet += lpSum([carbs[f] * foodvars[f] for f in foods]) >= requirements.loc['Minimum daily intake','Carbohydrates g']\n",
    "diet += lpSum([carbs[f] * foodvars[f] for f in foods]) <= requirements.loc['Maximum daily intake','Carbohydrates g']"
   ]
  },
  {
   "cell_type": "code",
   "execution_count": 18,
   "metadata": {
    "collapsed": true
   },
   "outputs": [],
   "source": [
    "diet += lpSum([fiber[f] * foodvars[f] for f in foods]) >= requirements.loc['Minimum daily intake','Dietary_Fiber g']\n",
    "diet += lpSum([fiber[f] * foodvars[f] for f in foods]) <= requirements.loc['Maximum daily intake','Dietary_Fiber g']"
   ]
  },
  {
   "cell_type": "code",
   "execution_count": 19,
   "metadata": {
    "collapsed": true
   },
   "outputs": [],
   "source": [
    "diet += lpSum([protein[f] * foodvars[f] for f in foods]) >= requirements.loc['Minimum daily intake','Protein g']\n",
    "diet += lpSum([protein[f] * foodvars[f] for f in foods]) <= requirements.loc['Maximum daily intake','Protein g']"
   ]
  },
  {
   "cell_type": "code",
   "execution_count": 20,
   "metadata": {
    "collapsed": true
   },
   "outputs": [],
   "source": [
    "diet += lpSum([vita[f] * foodvars[f] for f in foods]) >= requirements.loc['Minimum daily intake','Vit_A IU']\n",
    "diet += lpSum([vita[f] * foodvars[f] for f in foods]) <= requirements.loc['Maximum daily intake','Vit_A IU']"
   ]
  },
  {
   "cell_type": "code",
   "execution_count": 21,
   "metadata": {
    "collapsed": true
   },
   "outputs": [],
   "source": [
    "diet += lpSum([vitc[f] * foodvars[f] for f in foods]) >= requirements.loc['Minimum daily intake','Vit_C IU']\n",
    "diet += lpSum([vitc[f] * foodvars[f] for f in foods]) <= requirements.loc['Maximum daily intake','Vit_C IU']"
   ]
  },
  {
   "cell_type": "code",
   "execution_count": 22,
   "metadata": {
    "collapsed": true
   },
   "outputs": [],
   "source": [
    "diet += lpSum([calcium[f] * foodvars[f] for f in foods]) >= requirements.loc['Minimum daily intake','Calcium mg']\n",
    "diet += lpSum([calcium[f] * foodvars[f] for f in foods]) <= requirements.loc['Maximum daily intake','Calcium mg']"
   ]
  },
  {
   "cell_type": "code",
   "execution_count": 23,
   "metadata": {
    "collapsed": true
   },
   "outputs": [],
   "source": [
    "diet += lpSum([iron[f] * foodvars[f] for f in foods]) >= requirements.loc['Minimum daily intake','Iron mg']\n",
    "diet += lpSum([iron[f] * foodvars[f] for f in foods]) <= requirements.loc['Maximum daily intake','Iron mg']"
   ]
  },
  {
   "cell_type": "code",
   "execution_count": 24,
   "metadata": {
    "collapsed": true
   },
   "outputs": [],
   "source": [
    "# Add constraint so that at least .1 servings of a food are required if it is selected. \n",
    "for f in foods:\n",
    "    diet += foodvars[f] >= .1*chosenvars[f]\n",
    "# and a constraint for max of any food   \n",
    "for f in foods:\n",
    "    diet += foodvars[f] <= 999999999*chosenvars[f]"
   ]
  },
  {
   "cell_type": "code",
   "execution_count": 25,
   "metadata": {
    "collapsed": true
   },
   "outputs": [],
   "source": [
    "# Add constraint so that celery and brocolli both aren't selected\n",
    "diet += chosenvars['Frozen Broccoli'] + chosenvars['Celery, Raw'] <= 1, 'Broc/Celery Req'"
   ]
  },
  {
   "cell_type": "code",
   "execution_count": 26,
   "metadata": {
    "collapsed": true
   },
   "outputs": [],
   "source": [
    "# Add constraint so that at least 3 proteins are selected\n",
    "diet += chosenvars['Roasted Chicken'] + chosenvars['White Tuna in Water'] \n",
    "+ chosenvars['Poached Eggs'] + chosenvars['Scrambled Eggs'] + chosenvars['Bologna,Turkey'] \n",
    "+ chosenvars['Frankfurter, Beef'] + chosenvars['Ham,Sliced,Extralean'] \n",
    "+ chosenvars['Kielbasa,Prk'] + chosenvars['Hamburger W/Toppings'] \n",
    "+ chosenvars['Hotdog, Plain'] + chosenvars['Taco'] + chosenvars['Pork'] \n",
    "+ chosenvars['White Tuna in Water'] + chosenvars['Sardines in Oil'] \n",
    "+ chosenvars['Chicknoodl Soup'] + chosenvars['Splt Pea&Hamsoup']  \n",
    "+ chosenvars['Vegetbeef Soup'] + chosenvars['Neweng Clamchwd'] \n",
    "+ chosenvars['Beanbacn Soup,W/Watr'] >= 3, 'Protein Req'\n"
   ]
  },
  {
   "cell_type": "code",
   "execution_count": 30,
   "metadata": {},
   "outputs": [
    {
     "data": {
      "text/plain": [
       "'Optimal'"
      ]
     },
     "execution_count": 30,
     "metadata": {},
     "output_type": "execute_result"
    }
   ],
   "source": [
    "#Solve and check solution\n",
    "diet.solve()\n",
    "LpStatus[diet.status]"
   ]
  },
  {
   "cell_type": "code",
   "execution_count": 31,
   "metadata": {},
   "outputs": [
    {
     "name": "stdout",
     "output_type": "stream",
     "text": [
      "Chosen_Celery,_Raw = 1.0\n",
      "Chosen_Kielbasa,Prk = 1.0\n",
      "Chosen_Lettuce,Iceberg,Raw = 1.0\n",
      "Chosen_Oranges = 1.0\n",
      "Chosen_Peanut_Butter = 1.0\n",
      "Chosen_Poached_Eggs = 1.0\n",
      "Chosen_Popcorn,Air_Popped = 1.0\n",
      "Chosen_Scrambled_Eggs = 1.0\n",
      "Foods_Celery,_Raw = 42.399358\n",
      "Foods_Kielbasa,Prk = 0.1\n",
      "Foods_Lettuce,Iceberg,Raw = 82.802586\n",
      "Foods_Oranges = 3.0771841\n",
      "Foods_Peanut_Butter = 1.9429716\n",
      "Foods_Poached_Eggs = 0.1\n",
      "Foods_Popcorn,Air_Popped = 13.223294\n",
      "Foods_Scrambled_Eggs = 0.1\n"
     ]
    }
   ],
   "source": [
    "#Print foods and their amounts for an optimal diet\n",
    "for v in diet.variables():\n",
    "    if v.varValue>0:\n",
    "        print (v.name, \"=\", v.varValue)"
   ]
  },
  {
   "cell_type": "code",
   "execution_count": null,
   "metadata": {
    "collapsed": true
   },
   "outputs": [],
   "source": []
  }
 ],
 "metadata": {
  "kernelspec": {
   "display_name": "Python 3",
   "language": "python",
   "name": "python3"
  },
  "language_info": {
   "codemirror_mode": {
    "name": "ipython",
    "version": 3
   },
   "file_extension": ".py",
   "mimetype": "text/x-python",
   "name": "python",
   "nbconvert_exporter": "python",
   "pygments_lexer": "ipython3",
   "version": "3.6.3"
  }
 },
 "nbformat": 4,
 "nbformat_minor": 2
}
