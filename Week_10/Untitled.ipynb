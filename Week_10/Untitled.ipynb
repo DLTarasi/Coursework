{
 "cells": [
  {
   "cell_type": "code",
   "execution_count": 4,
   "metadata": {},
   "outputs": [
    {
     "ename": "NameError",
     "evalue": "name 'Cholesterol_mg' is not defined",
     "output_type": "error",
     "traceback": [
      "\u001b[0;31m---------------------------------------------------------------------------\u001b[0m",
      "\u001b[0;31mNameError\u001b[0m                                 Traceback (most recent call last)",
      "\u001b[0;32m<ipython-input-4-b9feec801f80>\u001b[0m in \u001b[0;36m<module>\u001b[0;34m()\u001b[0m\n\u001b[1;32m     38\u001b[0m \u001b[0mprob\u001b[0m \u001b[0;34m+=\u001b[0m \u001b[0mlpSum\u001b[0m\u001b[0;34m(\u001b[0m\u001b[0;34m[\u001b[0m\u001b[0mcalories\u001b[0m\u001b[0;34m[\u001b[0m\u001b[0mf\u001b[0m\u001b[0;34m]\u001b[0m\u001b[0;34m*\u001b[0m \u001b[0mfoodVars\u001b[0m\u001b[0;34m[\u001b[0m\u001b[0mf\u001b[0m\u001b[0;34m]\u001b[0m \u001b[0;32mfor\u001b[0m \u001b[0mf\u001b[0m \u001b[0;32min\u001b[0m \u001b[0mfoods\u001b[0m\u001b[0;34m]\u001b[0m\u001b[0;34m)\u001b[0m \u001b[0;34m<=\u001b[0m\u001b[0;36m2500\u001b[0m\u001b[0;34m,\u001b[0m \u001b[0;34m'max calories'\u001b[0m\u001b[0;34m\u001b[0m\u001b[0m\n\u001b[1;32m     39\u001b[0m \u001b[0;34m\u001b[0m\u001b[0m\n\u001b[0;32m---> 40\u001b[0;31m \u001b[0mprob\u001b[0m \u001b[0;34m+=\u001b[0m \u001b[0mlpSum\u001b[0m\u001b[0;34m(\u001b[0m\u001b[0;34m[\u001b[0m\u001b[0mCholesterol_mg\u001b[0m\u001b[0;34m[\u001b[0m\u001b[0mf\u001b[0m\u001b[0;34m]\u001b[0m\u001b[0;34m*\u001b[0m \u001b[0mfoodVars\u001b[0m\u001b[0;34m[\u001b[0m\u001b[0mf\u001b[0m\u001b[0;34m]\u001b[0m \u001b[0;32mfor\u001b[0m \u001b[0mf\u001b[0m \u001b[0;32min\u001b[0m \u001b[0mfoods\u001b[0m\u001b[0;34m]\u001b[0m\u001b[0;34m)\u001b[0m \u001b[0;34m>=\u001b[0m\u001b[0;36m30\u001b[0m\u001b[0;34m,\u001b[0m \u001b[0;34m'Cholesterol'\u001b[0m\u001b[0;34m\u001b[0m\u001b[0m\n\u001b[0m\u001b[1;32m     41\u001b[0m \u001b[0mprob\u001b[0m \u001b[0;34m+=\u001b[0m \u001b[0mlpSum\u001b[0m\u001b[0;34m(\u001b[0m\u001b[0;34m[\u001b[0m\u001b[0mCholesterol_mg\u001b[0m\u001b[0;34m[\u001b[0m\u001b[0mf\u001b[0m\u001b[0;34m]\u001b[0m\u001b[0;34m*\u001b[0m \u001b[0mfoodVars\u001b[0m\u001b[0;34m[\u001b[0m\u001b[0mf\u001b[0m\u001b[0;34m]\u001b[0m \u001b[0;32mfor\u001b[0m \u001b[0mf\u001b[0m \u001b[0;32min\u001b[0m \u001b[0mfoods\u001b[0m\u001b[0;34m]\u001b[0m\u001b[0;34m)\u001b[0m \u001b[0;34m<=\u001b[0m\u001b[0;36m240\u001b[0m\u001b[0;34m,\u001b[0m\u001b[0;34m\u001b[0m\u001b[0m\n\u001b[1;32m     42\u001b[0m \u001b[0;34m\u001b[0m\u001b[0m\n",
      "\u001b[0;32m<ipython-input-4-b9feec801f80>\u001b[0m in \u001b[0;36m<listcomp>\u001b[0;34m(.0)\u001b[0m\n\u001b[1;32m     38\u001b[0m \u001b[0mprob\u001b[0m \u001b[0;34m+=\u001b[0m \u001b[0mlpSum\u001b[0m\u001b[0;34m(\u001b[0m\u001b[0;34m[\u001b[0m\u001b[0mcalories\u001b[0m\u001b[0;34m[\u001b[0m\u001b[0mf\u001b[0m\u001b[0;34m]\u001b[0m\u001b[0;34m*\u001b[0m \u001b[0mfoodVars\u001b[0m\u001b[0;34m[\u001b[0m\u001b[0mf\u001b[0m\u001b[0;34m]\u001b[0m \u001b[0;32mfor\u001b[0m \u001b[0mf\u001b[0m \u001b[0;32min\u001b[0m \u001b[0mfoods\u001b[0m\u001b[0;34m]\u001b[0m\u001b[0;34m)\u001b[0m \u001b[0;34m<=\u001b[0m\u001b[0;36m2500\u001b[0m\u001b[0;34m,\u001b[0m \u001b[0;34m'max calories'\u001b[0m\u001b[0;34m\u001b[0m\u001b[0m\n\u001b[1;32m     39\u001b[0m \u001b[0;34m\u001b[0m\u001b[0m\n\u001b[0;32m---> 40\u001b[0;31m \u001b[0mprob\u001b[0m \u001b[0;34m+=\u001b[0m \u001b[0mlpSum\u001b[0m\u001b[0;34m(\u001b[0m\u001b[0;34m[\u001b[0m\u001b[0mCholesterol_mg\u001b[0m\u001b[0;34m[\u001b[0m\u001b[0mf\u001b[0m\u001b[0;34m]\u001b[0m\u001b[0;34m*\u001b[0m \u001b[0mfoodVars\u001b[0m\u001b[0;34m[\u001b[0m\u001b[0mf\u001b[0m\u001b[0;34m]\u001b[0m \u001b[0;32mfor\u001b[0m \u001b[0mf\u001b[0m \u001b[0;32min\u001b[0m \u001b[0mfoods\u001b[0m\u001b[0;34m]\u001b[0m\u001b[0;34m)\u001b[0m \u001b[0;34m>=\u001b[0m\u001b[0;36m30\u001b[0m\u001b[0;34m,\u001b[0m \u001b[0;34m'Cholesterol'\u001b[0m\u001b[0;34m\u001b[0m\u001b[0m\n\u001b[0m\u001b[1;32m     41\u001b[0m \u001b[0mprob\u001b[0m \u001b[0;34m+=\u001b[0m \u001b[0mlpSum\u001b[0m\u001b[0;34m(\u001b[0m\u001b[0;34m[\u001b[0m\u001b[0mCholesterol_mg\u001b[0m\u001b[0;34m[\u001b[0m\u001b[0mf\u001b[0m\u001b[0;34m]\u001b[0m\u001b[0;34m*\u001b[0m \u001b[0mfoodVars\u001b[0m\u001b[0;34m[\u001b[0m\u001b[0mf\u001b[0m\u001b[0;34m]\u001b[0m \u001b[0;32mfor\u001b[0m \u001b[0mf\u001b[0m \u001b[0;32min\u001b[0m \u001b[0mfoods\u001b[0m\u001b[0;34m]\u001b[0m\u001b[0;34m)\u001b[0m \u001b[0;34m<=\u001b[0m\u001b[0;36m240\u001b[0m\u001b[0;34m,\u001b[0m\u001b[0;34m\u001b[0m\u001b[0m\n\u001b[1;32m     42\u001b[0m \u001b[0;34m\u001b[0m\u001b[0m\n",
      "\u001b[0;31mNameError\u001b[0m: name 'Cholesterol_mg' is not defined"
     ]
    }
   ],
   "source": [
    "from pulp import *\n",
    "import pandas as pd\n",
    "\n",
    "#Read Data\n",
    "\n",
    "data=pd.read_excel(\"diet.xls\")\n",
    "data=data[0:64]\n",
    "data=data.values.tolist()\n",
    "\n",
    "#Extract nutrient vectors\n",
    "foods= [x[0] for x in data]\n",
    "foods[15]\n",
    "\n",
    "#Use dictionary\n",
    "\n",
    "cost= dict([(x[0], float(x[1])) for x in data]) #cost for each food\n",
    "cost[foods[15]]\n",
    "\n",
    "#Use list\n",
    "costlist= [float(x[1]) for x in data]\n",
    "costlist[15]\n",
    "\n",
    "calories = dict([(x[0], float(x[3])) for x in data])\n",
    "\n",
    "#Create LP problem\n",
    "\n",
    "prob = LpProblem('Food optimization', LpMinimize)\n",
    "\n",
    "#Define the variables for each food\n",
    "foodVars = LpVariable.dicts(\"Foods\", foods, 0)\n",
    "\n",
    "#Create objective function\n",
    "#Sum of unit cost times unit food\n",
    "prob += lpSum([cost[f] for f in foods]), 'Total Cost'\n",
    "\n",
    "#Add constraints for each nutrient\n",
    "prob += lpSum([calories[f]* foodVars[f] for f in foods]) >=1500, 'min calories'\n",
    "prob += lpSum([calories[f]* foodVars[f] for f in foods]) <=2500, 'max calories'\n",
    "\n",
    "prob += lpSum([Cholesterol_mg[f]* foodVars[f] for f in foods]) >=30, 'Cholesterol'\n",
    "prob += lpSum([Cholesterol_mg[f]* foodVars[f] for f in foods]) <=240,\n",
    "\n",
    "prob += lpSum([Total_fat_g[f]* foodVars[f] for f in foods]) >=20, 'Total fat'\n",
    "prob += lpSum([Total_fat_g[f]* foodVars[f] for f in foods]) <=70, \n",
    "\n",
    "prob += lpSum([Sodium_mg[f]* foodVars[f] for f in foods]) >=800, 'Sodium'\n",
    "prob += lpSum([Sodium_mg[f]* foodVars[f] for f in foods]) <=2000, \n",
    "\n",
    "prob += lpSum([Carbohydrates_g[f]* foodVars[f] for f in foods]) >=130, 'catbohydrates'\n",
    "prob += lpSum([Carbohydrates_g[f]* foodVars[f] for f in foods]) <=450, \n",
    "\n",
    "prob += lpSum([Dietary_Fiber_g[f]* foodVars[f] for f in foods]) >=125, 'Fiber'\n",
    "prob += lpSum([Dietary_Fiber_g[f]* foodVars[f] for f in foods]) <=250, \n",
    "\n",
    "prob += lpSum([Protein_g[f]* foodVars[f] for f in foods]) >=60, 'min Protein'\n",
    "prob += lpSum([Protein_g[f]* foodVars[f] for f in foods]) <=100, 'max Protein'\n",
    "\n",
    "prob += lpSum([Vit_A_IU[f]* foodVars[f] for f in foods]) >=1000, 'min Vit a'\n",
    "prob += lpSum([Vit_A_IU[f]* foodVars[f] for f in foods]) <=10000, 'max Vit A'\n",
    "\n",
    "prob += lpSum([Vit_C_IU[f]* foodVars[f] for f in foods]) >=400, 'min Vit C'\n",
    "prob += lpSum([Vit_C_IU[f]* foodVars[f] for f in foods]) <=5000, 'max Vit C'\n",
    "\n",
    "prob += lpSum([Iron_mg[f]* foodVars[f] for f in foods]) >=10, 'min Iron'\n",
    "prob += lpSum([Iron_mg[f]* foodVars[f] for f in foods]) <=40, 'max Iron'\n",
    "\n",
    "prob += lpSum([Calcium_mg[f]* foodVars[f] for f in foods]) >=700, 'min calcium'\n",
    "prob += lpSum([Calcium_mg[f]* foodVars[f] for f in foods]) <=1500, 'max calcium'\n",
    "#binary variable\n",
    "\n",
    "foodVars_selected = LpVariable.dicts(\"food_select\", foods, 0,1,LpBinary)\n",
    "prob += foodVars['Potatoes, Baked'] >=0.1 *foodVars_selected['Potatoes, Baked']\n",
    "\n",
    "#If any food is eaten, its binary variable must be 1\n",
    "\n",
    "prob += foodVars_selected['Potatoes, Baked'] >= foodVars_selected['Potatoes, Baked']*0.00000001\n",
    "\n",
    "#At most one between celery and frozen broccoli\n",
    "prob += foodVars_selected['Frozen Broccoli'] + foodVars_selected['Celery, Raw'] <=1\n",
    "\n",
    "#Three proteins\n",
    "prob += foodVars_selected['Roasted Chicken'] + foodVars_selected['Poached Eggs']+ foodVars_selected['Scrambled Eggs']+ foodVars_selected['Bologna, Turkey']+ foodVars_selected['Frankfurter, Beef']+ foodVars_selected['Ham,Sliced,Extralean']+ foodVars_selected['Kielbasa,Prk']+ foodVars_selected['Taco']+ foodVars_selected['Pork']+ foodVars_selected['Hamburger W/Toppings']+ foodVars_selected['Hotdog, Plain']+ foodVars_selected['Chicknoodl Soup'] >=3        \n",
    "\n",
    "\n",
    "#Solve the problem\n",
    "prob.solve()\n",
    "\n"
   ]
  },
  {
   "cell_type": "code",
   "execution_count": 5,
   "metadata": {},
   "outputs": [
    {
     "ename": "SyntaxError",
     "evalue": "EOL while scanning string literal (<ipython-input-5-d9fe8b7b9200>, line 6)",
     "output_type": "error",
     "traceback": [
      "\u001b[0;36m  File \u001b[0;32m\"<ipython-input-5-d9fe8b7b9200>\"\u001b[0;36m, line \u001b[0;32m6\u001b[0m\n\u001b[0;31m    print(str(var.varValue)+ \"units of \"+str(var).replace(\"Foods_\",\")\u001b[0m\n\u001b[0m                                                                     ^\u001b[0m\n\u001b[0;31mSyntaxError\u001b[0m\u001b[0;31m:\u001b[0m EOL while scanning string literal\n"
     ]
    }
   ],
   "source": [
    "#Print output\n",
    "print()\n",
    "print('The solution to this diet problem is:')\n",
    "for var in prob.variables(): \n",
    "    if var.varValue > 0 and \"food_select\" not in var.name: #Print name\n",
    "        print(str(var.varValue)+ \"units of \"+str(var).replace(\"Foods_\",\")"
   ]
  },
  {
   "cell_type": "code",
   "execution_count": null,
   "metadata": {
    "collapsed": true
   },
   "outputs": [],
   "source": []
  }
 ],
 "metadata": {
  "kernelspec": {
   "display_name": "Python 3",
   "language": "python",
   "name": "python3"
  },
  "language_info": {
   "codemirror_mode": {
    "name": "ipython",
    "version": 3
   },
   "file_extension": ".py",
   "mimetype": "text/x-python",
   "name": "python",
   "nbconvert_exporter": "python",
   "pygments_lexer": "ipython3",
   "version": "3.6.3"
  }
 },
 "nbformat": 4,
 "nbformat_minor": 2
}
